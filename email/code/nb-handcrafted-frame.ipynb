{
 "cells": [
  {
   "cell_type": "markdown",
   "metadata": {
    "_uuid": "9a78549649effa1858818cefd9f614338590f14c"
   },
   "source": [
    "# 垃圾邮件分类\n",
    "https://www.kaggle.com/uciml/sms-spam-collection-dataset"
   ]
  },
  {
   "cell_type": "markdown",
   "metadata": {
    "_cell_guid": "d6b1ab40-34da-4645-98c4-4b61c97895f6",
    "_uuid": "0259bd59e4fad41ffd78aa5a510a83ef07daab7f",
    "collapsed": true
   },
   "source": [
    "拿到数据首先读入拿到数据"
   ]
  },
  {
   "cell_type": "code",
   "execution_count": 8,
   "metadata": {
    "_cell_guid": "a89760f4-9075-42be-b4c4-c8c87d175c88",
    "_uuid": "4429a082ddabcb23261daec29ee1ae9e68ba2a2e"
   },
   "outputs": [],
   "source": [
    "from sklearn.feature_extraction.text import CountVectorizer\n",
    "from sklearn.model_selection import train_test_split\n",
    "import pandas as pd\n",
    "import numpy as np\n",
    "\n",
    "# 读取数据\n",
    "data_dir = \"../input/\"\n",
    "df = pd.read_csv(data_dir + '/spam.csv', encoding='latin-1')\n",
    "\n",
    "# 把数据拆分成为训练集和测试集\n",
    "data_train, data_test, labels_train, labels_test = train_test_split(\n",
    "    df.v2,\n",
    "    df.v1, \n",
    "    test_size=0.2, \n",
    "    random_state=0)  \n",
    "\n",
    "#print ('拆分过后的每个邮件内容')\n",
    "#print (data_train[:10])\n",
    "#print ('拆分过后每个邮件是否是垃圾邮件')\n",
    "#print (labels_train[:10])"
   ]
  },
  {
   "cell_type": "markdown",
   "metadata": {
    "_uuid": "8d7250a2a135c1e13ccfc00f6848176ecee31ff8"
   },
   "source": [
    "建立词汇表，统计两个类目下面的共词计数"
   ]
  },
  {
   "cell_type": "code",
   "execution_count": 2,
   "metadata": {
    "_uuid": "f7954ab7449b37d9d68880e7e56ab6f35630a8a9"
   },
   "outputs": [],
   "source": [
    "'''\n",
    "    用一个dictionary保存词汇，并给每个词汇赋予唯一的id\n",
    "'''\n",
    "def GetVocabulary(data): \n",
    "    return"
   ]
  },
  {
   "cell_type": "markdown",
   "metadata": {
    "_uuid": "8bb58cf7bf7b6e8fe37e89d4fc6a4edba21dc62d"
   },
   "source": [
    "把文章变成词向量\n"
   ]
  },
  {
   "cell_type": "code",
   "execution_count": 3,
   "metadata": {
    "_uuid": "db14dd202a4cb2bab6306d14e3acd2cb151f1260"
   },
   "outputs": [],
   "source": [
    "'''\n",
    "    把文本变成向量的表示形式，以便进行计算\n",
    "'''\n",
    "def Document2Vector(vocab_dict, data):\n",
    "    return\n"
   ]
  },
  {
   "cell_type": "code",
   "execution_count": 4,
   "metadata": {
    "_uuid": "f8e259bb2ef260294478c4ec7929cdd10b68d84a"
   },
   "outputs": [],
   "source": [
    "# 把训练集的句子全部变成向量形式"
   ]
  },
  {
   "cell_type": "markdown",
   "metadata": {
    "_uuid": "b55b0ce4caf250c26efb4f543d257744ef8c1985"
   },
   "source": [
    "做naive bayes 训练，得到训练集每个词概率"
   ]
  },
  {
   "cell_type": "code",
   "execution_count": 5,
   "metadata": {
    "_uuid": "024ad891e7df647a1415d9106e42cf8951f91f6a"
   },
   "outputs": [],
   "source": [
    "'''\n",
    "    在训练集计算两种概率：\n",
    "        1. 词在每个分类下的概率，比如P('email'|Spam)\n",
    "        2. 每个分类的概率，比如P(Spam)\n",
    "        \n",
    "    这里的计算实现巧妙利用了numpy的array结构：\n",
    "        1. 在每个分类下创建一个与词汇量大小相等的vector(即 numpy array), 即spam_word_counter 和 ham_word_counter\n",
    "        2. 在遍历每一个句子的时候，直接与句子对应的vector相加，累积每个单词出现的次数\n",
    "        3. 在遍历完所有句子之后，再除以总词汇量，得到每个单词的概率\n",
    "'''\n",
    "def NaiveBayes_train(train_matrix,labels_train):\n",
    "    return"
   ]
  },
  {
   "cell_type": "markdown",
   "metadata": {},
   "source": [
    "进行测试集预测"
   ]
  },
  {
   "cell_type": "code",
   "execution_count": 6,
   "metadata": {
    "_cell_guid": "e4415b37-0855-49bd-8926-afe63c668268",
    "_uuid": "1d737630d3f2df2b3d28355f57cabbf594c2bf23"
   },
   "outputs": [],
   "source": [
    "'''\n",
    "    对测试集进行预测，按照公式计算例子在两个分类下的概率，选择概率较大者作为预测结果\n",
    "'''\n",
    "def Predict(test_word_vector, p_spam_vector, p_spam, p_ham_vector, p_ham):\n",
    "    return"
   ]
  },
  {
   "cell_type": "code",
   "execution_count": 7,
   "metadata": {
    "_uuid": "231f268550db0c2515b227e89d8f3510ce1d26c5"
   },
   "outputs": [],
   "source": [
    "# 检测模型\n",
    "\n",
    "from sklearn.metrics import accuracy_score,classification_report,confusion_matrix\n",
    "from sklearn.model_selection import cross_val_score\n",
    "\n",
    "\n",
    "#print (accuracy_score(labels_test, predictions))\n",
    "#print (classification_report(labels_test, predictions))\n",
    "#print (confusion_matrix(labels_test, predictions))\n"
   ]
  },
  {
   "cell_type": "code",
   "execution_count": null,
   "metadata": {},
   "outputs": [],
   "source": []
  }
 ],
 "metadata": {
  "kernelspec": {
   "display_name": "Python 3",
   "language": "python",
   "name": "python3"
  },
  "language_info": {
   "codemirror_mode": {
    "name": "ipython",
    "version": 3
   },
   "file_extension": ".py",
   "mimetype": "text/x-python",
   "name": "python",
   "nbconvert_exporter": "python",
   "pygments_lexer": "ipython3",
   "version": "3.5.5"
  }
 },
 "nbformat": 4,
 "nbformat_minor": 1
}
